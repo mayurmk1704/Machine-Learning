{
  "nbformat": 4,
  "nbformat_minor": 0,
  "metadata": {
    "colab": {
      "provenance": []
    },
    "kernelspec": {
      "name": "python3",
      "display_name": "Python 3"
    },
    "language_info": {
      "name": "python"
    }
  },
  "cells": [
    {
      "cell_type": "markdown",
      "source": [
        "#Exercise: Data Preprocessing Pipeline"
      ],
      "metadata": {
        "id": "bAiSr1hdOGdW"
      }
    },
    {
      "cell_type": "markdown",
      "source": [
        "Goal: Create a complete data preprocessing pipeline for a new dataset"
      ],
      "metadata": {
        "id": "8Kn2a2DWwpxl"
      }
    },
    {
      "cell_type": "markdown",
      "source": [
        "##Importing the libraries"
      ],
      "metadata": {
        "id": "BRe3ugHSOTBY"
      }
    },
    {
      "cell_type": "code",
      "source": [
        "import numpy as np\n",
        "import matplotlib.pyplot as plt\n",
        "import pandas as pd"
      ],
      "metadata": {
        "id": "RIrjghAztfMY"
      },
      "execution_count": 1,
      "outputs": []
    },
    {
      "cell_type": "markdown",
      "source": [
        "##Importing the dataset"
      ],
      "metadata": {
        "id": "vpuM1cdyOxqt"
      }
    },
    {
      "cell_type": "code",
      "source": [
        "dataset = pd.read_csv('customer_dataset.csv')"
      ],
      "metadata": {
        "id": "t1jcuhKAtvGZ"
      },
      "execution_count": 2,
      "outputs": []
    },
    {
      "cell_type": "code",
      "source": [
        "print(dataset)"
      ],
      "metadata": {
        "colab": {
          "base_uri": "https://localhost:8080/"
        },
        "id": "SZBjKYpGt21p",
        "outputId": "0ee60068-7982-4136-bfe2-f077be878f56"
      },
      "execution_count": 3,
      "outputs": [
        {
          "output_type": "stream",
          "name": "stdout",
          "text": [
            "   Country   Age   Salary Subscribed\n",
            "0   France  44.0  72000.0         No\n",
            "1    Spain  27.0      NaN        Yes\n",
            "2  Germany   NaN  54000.0         No\n",
            "3    Italy  38.0  61000.0         No\n",
            "4   France  40.0  58000.0        Yes\n",
            "5    Spain  35.0  52000.0        Yes\n",
            "6  Germany  28.0  79000.0         No\n",
            "7    Italy  48.0  83000.0        Yes\n"
          ]
        }
      ]
    },
    {
      "cell_type": "markdown",
      "source": [
        "##Creating the matrix of features"
      ],
      "metadata": {
        "id": "mqR8g64PPVYI"
      }
    },
    {
      "cell_type": "code",
      "source": [
        "X = dataset.iloc[:, :-1].values"
      ],
      "metadata": {
        "id": "z6s93mkot5X5"
      },
      "execution_count": 4,
      "outputs": []
    },
    {
      "cell_type": "code",
      "source": [
        "print(X)"
      ],
      "metadata": {
        "colab": {
          "base_uri": "https://localhost:8080/"
        },
        "id": "60m6ZyFvt9qe",
        "outputId": "4bc77df7-cb19-4671-e182-7e5e6ff61bd3"
      },
      "execution_count": 5,
      "outputs": [
        {
          "output_type": "stream",
          "name": "stdout",
          "text": [
            "[['France' 44.0 72000.0]\n",
            " ['Spain' 27.0 nan]\n",
            " ['Germany' nan 54000.0]\n",
            " ['Italy' 38.0 61000.0]\n",
            " ['France' 40.0 58000.0]\n",
            " ['Spain' 35.0 52000.0]\n",
            " ['Germany' 28.0 79000.0]\n",
            " ['Italy' 48.0 83000.0]]\n"
          ]
        }
      ]
    },
    {
      "cell_type": "markdown",
      "source": [
        "##Creating the dependent variable vector"
      ],
      "metadata": {
        "id": "ZGAYk-EZPefG"
      }
    },
    {
      "cell_type": "code",
      "source": [
        "y = dataset.iloc[:, -1].values"
      ],
      "metadata": {
        "id": "-RljqgGFuEA7"
      },
      "execution_count": 6,
      "outputs": []
    },
    {
      "cell_type": "code",
      "source": [
        "print(y)"
      ],
      "metadata": {
        "colab": {
          "base_uri": "https://localhost:8080/"
        },
        "id": "pbD24VgtuIdB",
        "outputId": "07af7b21-d2c0-43d9-ae0d-763e61b15aeb"
      },
      "execution_count": 7,
      "outputs": [
        {
          "output_type": "stream",
          "name": "stdout",
          "text": [
            "['No' 'Yes' 'No' 'No' 'Yes' 'Yes' 'No' 'Yes']\n"
          ]
        }
      ]
    },
    {
      "cell_type": "markdown",
      "source": [
        "##Taking care of missing data"
      ],
      "metadata": {
        "id": "5BSy3Tn7PmSz"
      }
    },
    {
      "cell_type": "code",
      "source": [
        "from sklearn.impute import SimpleImputer\n",
        "imputer = SimpleImputer(missing_values=np.nan, strategy='mean')\n",
        "imputer.fit(X[:, 1:])\n",
        "X[:, 1:] = imputer.transform(X[:, 1:])"
      ],
      "metadata": {
        "id": "UrOA-sMEuLLb"
      },
      "execution_count": 8,
      "outputs": []
    },
    {
      "cell_type": "code",
      "source": [
        "print(X)"
      ],
      "metadata": {
        "colab": {
          "base_uri": "https://localhost:8080/"
        },
        "id": "FHLuIXHdurqH",
        "outputId": "6614ca48-4d03-4d47-8eed-e77c2968db5a"
      },
      "execution_count": 9,
      "outputs": [
        {
          "output_type": "stream",
          "name": "stdout",
          "text": [
            "[['France' 44.0 72000.0]\n",
            " ['Spain' 27.0 65571.42857142857]\n",
            " ['Germany' 37.142857142857146 54000.0]\n",
            " ['Italy' 38.0 61000.0]\n",
            " ['France' 40.0 58000.0]\n",
            " ['Spain' 35.0 52000.0]\n",
            " ['Germany' 28.0 79000.0]\n",
            " ['Italy' 48.0 83000.0]]\n"
          ]
        }
      ]
    },
    {
      "cell_type": "markdown",
      "source": [
        "##Encoding categorical data"
      ],
      "metadata": {
        "id": "kyzaWKLGQtA5"
      }
    },
    {
      "cell_type": "markdown",
      "source": [
        "###Encoding the independent variable"
      ],
      "metadata": {
        "id": "gc2HDCGYQvJH"
      }
    },
    {
      "cell_type": "code",
      "source": [
        "from sklearn.compose import ColumnTransformer\n",
        "from sklearn.preprocessing import OneHotEncoder\n",
        "ct = ColumnTransformer(transformers=[('encoder', OneHotEncoder(), [0])], remainder='passthrough')\n",
        "X = np.array(ct.fit_transform(X))"
      ],
      "metadata": {
        "id": "60zmvrXLu1Dr"
      },
      "execution_count": 10,
      "outputs": []
    },
    {
      "cell_type": "code",
      "source": [
        "print(X)"
      ],
      "metadata": {
        "colab": {
          "base_uri": "https://localhost:8080/"
        },
        "id": "qhRGWLbfvNNL",
        "outputId": "c9fca859-6a54-4041-8683-f7093f559508"
      },
      "execution_count": 11,
      "outputs": [
        {
          "output_type": "stream",
          "name": "stdout",
          "text": [
            "[[1.0 0.0 0.0 0.0 44.0 72000.0]\n",
            " [0.0 0.0 0.0 1.0 27.0 65571.42857142857]\n",
            " [0.0 1.0 0.0 0.0 37.142857142857146 54000.0]\n",
            " [0.0 0.0 1.0 0.0 38.0 61000.0]\n",
            " [1.0 0.0 0.0 0.0 40.0 58000.0]\n",
            " [0.0 0.0 0.0 1.0 35.0 52000.0]\n",
            " [0.0 1.0 0.0 0.0 28.0 79000.0]\n",
            " [0.0 0.0 1.0 0.0 48.0 83000.0]]\n"
          ]
        }
      ]
    },
    {
      "cell_type": "markdown",
      "source": [
        "###Encoding the dependent variable"
      ],
      "metadata": {
        "id": "Z6jSvBmfRnIa"
      }
    },
    {
      "cell_type": "code",
      "source": [
        "from sklearn.preprocessing import LabelEncoder\n",
        "le = LabelEncoder()\n",
        "y = le.fit_transform(y)"
      ],
      "metadata": {
        "id": "J0hIIHSNvPmI"
      },
      "execution_count": 12,
      "outputs": []
    },
    {
      "cell_type": "code",
      "source": [
        "print(y)"
      ],
      "metadata": {
        "colab": {
          "base_uri": "https://localhost:8080/"
        },
        "id": "F_MAKKxAvZ-C",
        "outputId": "ff19f74f-c35d-47af-d022-f938a580dfde"
      },
      "execution_count": 13,
      "outputs": [
        {
          "output_type": "stream",
          "name": "stdout",
          "text": [
            "[0 1 0 0 1 1 0 1]\n"
          ]
        }
      ]
    },
    {
      "cell_type": "markdown",
      "source": [
        "##Splitting the dataset into training set and test set"
      ],
      "metadata": {
        "id": "B3zkr56hR_gO"
      }
    },
    {
      "cell_type": "code",
      "source": [
        "from sklearn.model_selection import train_test_split\n",
        "X_train, X_test, y_train, y_test = train_test_split(X, y, test_size=0.25, random_state=42, stratify=y)"
      ],
      "metadata": {
        "id": "qRrR9TTbvb2A"
      },
      "execution_count": 14,
      "outputs": []
    },
    {
      "cell_type": "code",
      "source": [
        "print(X_train)"
      ],
      "metadata": {
        "colab": {
          "base_uri": "https://localhost:8080/"
        },
        "id": "l7em3PqfvxWS",
        "outputId": "5007f8c8-b349-4553-a34f-0462d3149fb6"
      },
      "execution_count": 15,
      "outputs": [
        {
          "output_type": "stream",
          "name": "stdout",
          "text": [
            "[[0.0 0.0 0.0 1.0 27.0 65571.42857142857]\n",
            " [0.0 1.0 0.0 0.0 37.142857142857146 54000.0]\n",
            " [1.0 0.0 0.0 0.0 40.0 58000.0]\n",
            " [0.0 0.0 1.0 0.0 48.0 83000.0]\n",
            " [1.0 0.0 0.0 0.0 44.0 72000.0]\n",
            " [0.0 1.0 0.0 0.0 28.0 79000.0]]\n"
          ]
        }
      ]
    },
    {
      "cell_type": "code",
      "source": [
        "print(X_test)"
      ],
      "metadata": {
        "colab": {
          "base_uri": "https://localhost:8080/"
        },
        "id": "Ix9jz50qvy_Q",
        "outputId": "24ca4fc0-c5fc-4753-f055-1a1827f54613"
      },
      "execution_count": 16,
      "outputs": [
        {
          "output_type": "stream",
          "name": "stdout",
          "text": [
            "[[0.0 0.0 1.0 0.0 38.0 61000.0]\n",
            " [0.0 0.0 0.0 1.0 35.0 52000.0]]\n"
          ]
        }
      ]
    },
    {
      "cell_type": "code",
      "source": [
        "print(y_train)"
      ],
      "metadata": {
        "colab": {
          "base_uri": "https://localhost:8080/"
        },
        "id": "EeMpwUvHv1kG",
        "outputId": "9e09e96a-d45b-4a29-f467-ac32e87d1092"
      },
      "execution_count": 17,
      "outputs": [
        {
          "output_type": "stream",
          "name": "stdout",
          "text": [
            "[1 0 1 1 0 0]\n"
          ]
        }
      ]
    },
    {
      "cell_type": "code",
      "source": [
        "print(y_test)"
      ],
      "metadata": {
        "colab": {
          "base_uri": "https://localhost:8080/"
        },
        "id": "TM8M9zHYv3Nk",
        "outputId": "fdb940f7-0930-42f9-9984-0e6dda0c2662"
      },
      "execution_count": 18,
      "outputs": [
        {
          "output_type": "stream",
          "name": "stdout",
          "text": [
            "[0 1]\n"
          ]
        }
      ]
    },
    {
      "cell_type": "markdown",
      "source": [
        "##Feature scaling"
      ],
      "metadata": {
        "id": "Fl0ea1PGScXJ"
      }
    },
    {
      "cell_type": "markdown",
      "source": [
        "###Standardization"
      ],
      "metadata": {
        "id": "4-G5wXDWS1bX"
      }
    },
    {
      "cell_type": "code",
      "source": [
        "from sklearn.preprocessing import StandardScaler\n",
        "sc = StandardScaler()\n",
        "X_train[:, 4:] = sc.fit_transform(X_train[:, 4:])\n",
        "X_test[:, 4:] = sc.transform(X_test[:, 4:])"
      ],
      "metadata": {
        "id": "8t30pDXLv53J"
      },
      "execution_count": 19,
      "outputs": []
    },
    {
      "cell_type": "code",
      "source": [
        "print(X_train)"
      ],
      "metadata": {
        "colab": {
          "base_uri": "https://localhost:8080/"
        },
        "id": "pit_CfKZwb7R",
        "outputId": "096a5a05-88ac-4643-decd-8316c6448ea9"
      },
      "execution_count": 20,
      "outputs": [
        {
          "output_type": "stream",
          "name": "stdout",
          "text": [
            "[[0.0 0.0 0.0 1.0 -1.3384868828318128 -0.287922646830573]\n",
            " [0.0 1.0 0.0 0.0 -0.02769283205858845 -1.3897368701349688]\n",
            " [1.0 0.0 0.0 0.0 0.341544928722601 -1.0088628176346837]\n",
            " [0.0 0.0 1.0 0.0 1.3754106589099326 1.3716000104920987]\n",
            " [1.0 0.0 0.0 0.0 0.8584777938162668 0.32419636611631447]\n",
            " [0.0 1.0 0.0 0.0 -1.2092536665583964 0.9907259579918135]]\n"
          ]
        }
      ]
    },
    {
      "cell_type": "code",
      "source": [
        "print(X_test)"
      ],
      "metadata": {
        "colab": {
          "base_uri": "https://localhost:8080/"
        },
        "id": "1l9cj3uxwfSc",
        "outputId": "85d69c4a-ef41-4726-9bf5-5c8d04608a59"
      },
      "execution_count": 21,
      "outputs": [
        {
          "output_type": "stream",
          "name": "stdout",
          "text": [
            "[[0.0 0.0 1.0 0.0 0.08307849617576811 -0.7232072782594697]\n",
            " [0.0 0.0 0.0 1.0 -0.30462115264448125 -1.5801738963851113]]\n"
          ]
        }
      ]
    }
  ]
}